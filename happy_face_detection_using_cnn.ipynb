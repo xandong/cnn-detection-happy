{
  "cells": [
    {
      "cell_type": "code",
      "execution_count": 3,
      "metadata": {
        "_cell_guid": "b1076dfc-b9ad-4769-8c92-a6c4dae69d19",
        "_uuid": "8f2839f25d086af736a60e9eeb907d3b93b6e0e5",
        "id": "CMda8CjvRL3q",
        "trusted": true
      },
      "outputs": [
        {
          "ename": "ModuleNotFoundError",
          "evalue": "No module named 'pandas'",
          "output_type": "error",
          "traceback": [
            "\u001b[0;31m---------------------------------------------------------------------------\u001b[0m",
            "\u001b[0;31mModuleNotFoundError\u001b[0m                       Traceback (most recent call last)",
            "Cell \u001b[0;32mIn[3], line 8\u001b[0m\n\u001b[1;32m      6\u001b[0m \u001b[39mimport\u001b[39;00m \u001b[39mnumpy\u001b[39;00m \u001b[39mas\u001b[39;00m \u001b[39mnp\u001b[39;00m \n\u001b[1;32m      7\u001b[0m \u001b[39m# albegra linear\u001b[39;00m\n\u001b[0;32m----> 8\u001b[0m \u001b[39mimport\u001b[39;00m \u001b[39mpandas\u001b[39;00m \u001b[39mas\u001b[39;00m \u001b[39mpd\u001b[39;00m\n\u001b[1;32m      9\u001b[0m  \u001b[39m# processamento de dados, E/S de arquivo CSV (por exemplo, pd.read_csv)\u001b[39;00m\n\u001b[1;32m     10\u001b[0m \n\u001b[1;32m     11\u001b[0m \u001b[39m# Os arquivos de dados de entrada estão disponíveis no diretório \"../input/\".\u001b[39;00m\n\u001b[1;32m     12\u001b[0m \u001b[39m# Por exemplo, executar isso (clicando em executar ou pressionando Shift+Enter) listará os arquivos no diretório de entrada\u001b[39;00m\n\u001b[1;32m     13\u001b[0m \u001b[39mimport\u001b[39;00m \u001b[39mh5py\u001b[39;00m\n",
            "\u001b[0;31mModuleNotFoundError\u001b[0m: No module named 'pandas'"
          ]
        }
      ],
      "source": [
        "# Este ambiente Python 3 vem com muitas bibliotecas analíticas úteis instaladas\n",
        "# É definido pela imagem do docker kaggle/python: https://github.com/kaggle/docker-python\n",
        "# Por exemplo, aqui estão vários pacotes úteis para carregar\n",
        "\n",
        "\n",
        "import numpy as np \n",
        "# albegra linear\n",
        "import pandas as pd\n",
        " # processamento de dados, E/S de arquivo CSV (por exemplo, pd.read_csv)\n",
        "\n",
        "# Os arquivos de dados de entrada estão disponíveis no diretório \"../input/\".\n",
        "# Por exemplo, executar isso (clicando em executar ou pressionando Shift+Enter) listará os arquivos no diretório de entrada\n",
        "import h5py\n",
        "\n",
        "# from google.colab import drive\n",
        "from keras.models import Sequential\n",
        "from keras.layers import Conv2D, Dense, Flatten, Dropout, MaxPool2D\n",
        "from keras.optimizers import Adam, RMSprop\n",
        "from keras.initializers import RandomNormal\n",
        "import matplotlib.pyplot as plt\n",
        "import seaborn as sns\n",
        "import os\n",
        "\n",
        "# Any results you write to the current directory are saved as output."
      ]
    },
    {
      "cell_type": "code",
      "execution_count": null,
      "metadata": {
        "colab": {
          "base_uri": "https://localhost:8080/"
        },
        "id": "YJWD7MpySz5B",
        "outputId": "9cc243f5-feea-4aa9-d693-62d51a2b4b48"
      },
      "outputs": [
        {
          "name": "stdout",
          "output_type": "stream",
          "text": [
            "Drive already mounted at /content/drive; to attempt to forcibly remount, call drive.mount(\"/content/drive\", force_remount=True).\n"
          ]
        }
      ],
      "source": [
        "# drive.mount('/content/drive')"
      ]
    },
    {
      "cell_type": "code",
      "execution_count": null,
      "metadata": {
        "_uuid": "c931cd1d664b7387e158c00611d43a31c36b9af8",
        "id": "TAV9wxWHRL31",
        "trusted": true
      },
      "outputs": [],
      "source": [
        "trainFile = h5py.File('./train_happy.h5')\n",
        "testFile = h5py.File('./test_happy.h5')"
      ]
    },
    {
      "cell_type": "code",
      "execution_count": null,
      "metadata": {
        "_uuid": "c221ceb47992e92d9e89d5e272f1a708f5457dac",
        "id": "qtIyA7UkRL33",
        "trusted": true
      },
      "outputs": [],
      "source": [
        "train_x = np.array(trainFile['train_set_x'][:])\n",
        "train_y = np.array(trainFile['train_set_y'][:])\n",
        "\n",
        "test_x = np.array(testFile['test_set_x'][:])\n",
        "test_y = np.array(testFile['test_set_y'][:])"
      ]
    },
    {
      "cell_type": "code",
      "execution_count": null,
      "metadata": {
        "_uuid": "b841ce2be031139d324e31e58a55fbf6fa28feef",
        "colab": {
          "base_uri": "https://localhost:8080/"
        },
        "id": "XNAQN1LoRL35",
        "outputId": "88386623-3f88-465a-e381-baa2264667dd",
        "trusted": true
      },
      "outputs": [
        {
          "name": "stdout",
          "output_type": "stream",
          "text": [
            "(600, 64, 64, 3)\n",
            "(600,)\n"
          ]
        }
      ],
      "source": [
        "print(train_x.shape)\n",
        "print(train_y.shape)"
      ]
    },
    {
      "cell_type": "code",
      "execution_count": null,
      "metadata": {
        "_uuid": "9cc1c3fa624fc7172809910ca84d72e7ceef1730",
        "colab": {
          "base_uri": "https://localhost:8080/"
        },
        "id": "O3-zKlD3RL36",
        "outputId": "289aedb1-38c9-4fb3-eb5b-8e0febc6d9d6",
        "trusted": true
      },
      "outputs": [
        {
          "name": "stdout",
          "output_type": "stream",
          "text": [
            "(150, 64, 64, 3)\n",
            "(150,)\n"
          ]
        }
      ],
      "source": [
        "print(test_x.shape)\n",
        "print(test_y.shape)"
      ]
    },
    {
      "cell_type": "code",
      "execution_count": null,
      "metadata": {
        "_uuid": "931e9887c587299aad8e8d0690608515c4555bbc",
        "colab": {
          "base_uri": "https://localhost:8080/"
        },
        "id": "SztqVQWNRL37",
        "outputId": "6e130656-f2aa-424d-dae8-fe6eb7ae58e2",
        "trusted": true
      },
      "outputs": [
        {
          "name": "stdout",
          "output_type": "stream",
          "text": [
            "(1, 600)\n",
            "(1, 150)\n"
          ]
        }
      ],
      "source": [
        "train_y = train_y.reshape((1, train_y.shape[0]))\n",
        "test_y = test_y.reshape((1, test_y.shape[0]))\n",
        "\n",
        "print(train_y.shape)\n",
        "print(test_y.shape)"
      ]
    },
    {
      "cell_type": "code",
      "execution_count": null,
      "metadata": {
        "_uuid": "cd9f5859eeb50cd6e8ba3723c24302f8ab6492d2",
        "colab": {
          "base_uri": "https://localhost:8080/"
        },
        "id": "vvH2cQ2DRL39",
        "outputId": "7332abcb-599f-48cf-80af-adbecc76f079",
        "trusted": true
      },
      "outputs": [
        {
          "name": "stdout",
          "output_type": "stream",
          "text": [
            "[[0 1 1 1 1 1 0 0 0 1 0 0 1 1 1 1 1 0 0 0 0 1 1 0 1 0 1 1 1 1 1 1 0 1 0 1\n",
            "  0 0 1 1 1 0 1 0 1 1 0 1 0 1 1 0 1 0 0 0 0 1 0 1 1 1 0 1 1 1 1 0 1 0 1 1\n",
            "  0 1 1 0 1 1 1 0 1 1 0 0 0 0 1 0 1 0 1 1 0 0 1 1 0 1 1 0 1 0 1 0 0 1 0 0\n",
            "  1 1 1 0 0 0 1 0 0 1 1 0 1 0 0 1 0 1 1 0 1 0 0 0 1 0 0 0 1 1 0 1 1 0 0 1\n",
            "  1 1 1 1 1 1 1 1 0 0 1 0 0 0 0 0 1 0 0 0 0 0 1 1 1 1 0 0 1 0 1 0 1 1 1 0\n",
            "  0 1 0 0 0 1 0 1 0 0 0 0 0 1 1 0 1 0 0 0 0 1 1 1 0 0 0 1 1 0 0 0 1 0 0 1\n",
            "  0 0 1 1 0 1 0 1 1 1 0 1 1 1 1 1 0 0 0 1 1 1 0 1 0 1 0 1 0 1 1 1 1 0 0 0\n",
            "  1 1 0 0 1 1 0 1 1 1 0 1 1 0 1 1 1 0 0 0 0 1 0 0 0 1 0 1 1 0 1 1 1 0 0 1\n",
            "  1 0 0 0 1 0 0 0 1 0 1 0 1 1 1 0 1 0 1 0 0 0 1 0 0 1 0 1 1 0 0 0 1 0 0 0\n",
            "  1 0 0 1 1 1 0 0 1 0 0 1 0 0 1 0 1 1 1 1 0 0 1 0 1 1 1 0 1 1 0 1 0 0 0 1\n",
            "  0 0 0 1 1 0 1 1 0 0 1 0 1 0 0 0 1 0 0 1 1 1 1 1 0 1 0 1 1 1 0 0 1 1 1 1\n",
            "  0 0 1 1 1 1 1 1 0 1 0 1 0 0 0 1 1 0 1 0 0 0 1 0 1 1 1 1 1 1 0 0 0 1 1 1\n",
            "  1 0 0 1 1 0 0 1 0 0 0 0 0 0 1 0 1 0 0 0 0 1 1 0 1 0 1 0 0 0 0 0 1 0 1 0\n",
            "  1 1 1 0 0 0 1 1 1 1 1 1 0 1 0 0 0 1 0 0 1 0 0 0 1 0 0 0 1 1 0 1 1 0 0 1\n",
            "  1 0 0 1 0 0 1 1 1 0 1 1 1 1 1 0 0 1 0 1 1 1 0 0 0 0 0 0 0 0 0 0 0 1 0 1\n",
            "  1 0 0 1 0 1 0 0 1 1 0 0 1 0 1 0 1 1 0 0 0 0 1 1 0 1 0 0 1 0 1 1 1 0 1 1\n",
            "  0 1 1 0 0 0 1 1 1 0 1 1 1 0 1 0 0 1 0 1 0 0 0 0]]\n"
          ]
        }
      ],
      "source": [
        "print(train_y)"
      ]
    },
    {
      "cell_type": "code",
      "execution_count": null,
      "metadata": {
        "_uuid": "1ab9ffb63b6d04d890b45bcc938978f3d682b0ca",
        "colab": {
          "base_uri": "https://localhost:8080/",
          "height": 285
        },
        "id": "ZH83lczLRL3-",
        "outputId": "4767200a-1546-474d-a59e-3e4f9704cdb8",
        "trusted": true
      },
      "outputs": [
        {
          "data": {
            "text/plain": [
              "<matplotlib.image.AxesImage at 0x7f0f7add00d0>"
            ]
          },
          "execution_count": 9,
          "metadata": {},
          "output_type": "execute_result"
        },
        {
          "data": {
            "image/png": "[encoded data removed]",
            "text/plain": [
              "<Figure size 432x288 with 1 Axes>"
            ]
          },
          "metadata": {
            "needs_background": "light"
          },
          "output_type": "display_data"
        }
      ],
      "source": [
        "plt.imshow(train_x[0])"
      ]
    },
    {
      "cell_type": "code",
      "execution_count": null,
      "metadata": {
        "_uuid": "ec4961ca09c38bd380b6db231cf13bf422c0ee13",
        "id": "YkI6_ksFRL4A",
        "trusted": true
      },
      "outputs": [],
      "source": [
        "X_train = train_x / 255.0\n",
        "X_test = test_x / 255.0\n",
        "\n",
        "y_train = train_y.T\n",
        "y_test = test_y.T\n"
      ]
    },
    {
      "cell_type": "code",
      "execution_count": null,
      "metadata": {
        "_uuid": "881c9ce0df0245f14f8a8012c2a783d49d22304e",
        "id": "toM0F3MERL4B",
        "trusted": true
      },
      "outputs": [],
      "source": [
        "# print(y_train)"
      ]
    },
    {
      "cell_type": "code",
      "execution_count": null,
      "metadata": {
        "_uuid": "d335ebddf4c556a53bd8b54fc9ec842b70263910",
        "id": "NzFbP1O1RL4D",
        "trusted": true
      },
      "outputs": [],
      "source": [
        "model = Sequential()\n",
        "\n",
        "model.add(Conv2D(filters=32, kernel_size=(3,3), activation='relu', padding='Same', input_shape=(64,64,3)))\n",
        "model.add(Conv2D(filters=64, kernel_size=(3,3), activation='relu', padding='Same'))\n",
        "\n",
        "model.add(MaxPool2D(pool_size=(2,2)))\n",
        "\n",
        "model.add(Conv2D(filters=128, kernel_size=(3,3), activation='relu', padding='Same'))\n",
        "\n",
        "model.add(MaxPool2D(pool_size=(2,2)))\n",
        "\n",
        "model.add(Flatten())\n",
        "\n",
        "model.add(Dense(128, activation='relu'))\n",
        "model.add(Dropout(0.2))\n",
        "model.add(Dense(1, activation='sigmoid'))"
      ]
    },
    {
      "cell_type": "code",
      "execution_count": null,
      "metadata": {
        "_uuid": "431d953faadb1d634311caf0df81f22f89bce68b",
        "id": "uQg1GclrRL4E",
        "trusted": true
      },
      "outputs": [],
      "source": [
        "model.compile(optimizer='rmsprop', loss='binary_crossentropy', metrics=['accuracy'])"
      ]
    },
    {
      "cell_type": "code",
      "execution_count": null,
      "metadata": {
        "_uuid": "f0a6e2a3e5ed41ca76824b85d88198401a4a0e1f",
        "id": "rBOZ7nCgRL4F",
        "trusted": true
      },
      "outputs": [],
      "source": [
        "epochs = 30\n",
        "batch_size = 30"
      ]
    },
    {
      "cell_type": "code",
      "execution_count": null,
      "metadata": {
        "_uuid": "12914965d92d9b5f803145061825d7bc116a10e3",
        "colab": {
          "base_uri": "https://localhost:8080/"
        },
        "id": "KXbQP5E1RL4H",
        "outputId": "88b05b92-2d87-41c4-b1fa-5df6fa31c2c5",
        "trusted": true
      },
      "outputs": [
        {
          "name": "stdout",
          "output_type": "stream",
          "text": [
            "Epoch 1/30\n"
          ]
        }
      ],
      "source": [
        "history = model.fit(x=X_train, y=y_train, epochs=epochs, verbose=2,batch_size=batch_size)"
      ]
    },
    {
      "cell_type": "code",
      "execution_count": null,
      "metadata": {
        "_uuid": "7ae3d58e2a3cae6a39b6e011e4dc3c5d4c036010",
        "id": "dqZRwLjTRL4H",
        "trusted": true
      },
      "outputs": [],
      "source": [
        "test_score = model.evaluate(X_test, y_test, verbose=1)"
      ]
    },
    {
      "cell_type": "code",
      "execution_count": null,
      "metadata": {
        "_uuid": "632b03d070e813328bf023e408dd44a999cd5e70",
        "id": "8zvy9OqLRL4I",
        "trusted": true
      },
      "outputs": [],
      "source": [
        "print('test loss:', test_score[0])\n",
        "print('test accuracy:', test_score[1])"
      ]
    },
    {
      "cell_type": "code",
      "execution_count": null,
      "metadata": {
        "_uuid": "a1474f1ea66b8033256f296150778a0b9144de0f",
        "id": "DEdeosf_RL4J",
        "trusted": true
      },
      "outputs": [],
      "source": [
        "training_accuracy = history.history['accuracy']\n",
        "training_loss = history.history['loss']\n",
        "\n",
        "E = range(len(training_accuracy))\n",
        "plt.plot(E, training_accuracy, color='red', label='Training accuracy')\n",
        "plt.title('epochs vs Training accuracy')\n",
        "plt.legend()\n",
        "\n",
        "plt.figure()\n",
        "plt.plot(E, training_loss, color='red', label='Training Loss')\n",
        "plt.title('epochs vs Training Loss')\n",
        "plt.legend()"
      ]
    }
  ],
  "metadata": {
    "colab": {
      "provenance": []
    },
    "kernelspec": {
      "display_name": "Python 3.10.4 64-bit",
      "language": "python",
      "name": "python3"
    },
    "language_info": {
      "codemirror_mode": {
        "name": "ipython",
        "version": 3
      },
      "file_extension": ".py",
      "mimetype": "text/x-python",
      "name": "python",
      "nbconvert_exporter": "python",
      "pygments_lexer": "ipython3",
      "version": "3.10.6"
    },
    "vscode": {
      "interpreter": {
        "hash": "916dbcbb3f70747c44a77c7bcd40155683ae19c65e1c03b4aa3499c5328201f1"
      }
    }
  },
  "nbformat": 4,
  "nbformat_minor": 0
}
